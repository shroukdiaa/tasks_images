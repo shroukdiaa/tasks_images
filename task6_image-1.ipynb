{
 "cells": [
  {
   "cell_type": "code",
   "execution_count": 1,
   "metadata": {},
   "outputs": [
    {
     "name": "stdout",
     "output_type": "stream",
     "text": [
      "Requirement already satisfied: opencv-python in c:\\users\\nv\\appdata\\local\\programs\\python\\python313\\lib\\site-packages (4.10.0.84)Note: you may need to restart the kernel to use updated packages.\n"
     ]
    },
    {
     "name": "stderr",
     "output_type": "stream",
     "text": [
      "\n",
      "[notice] A new release of pip is available: 24.2 -> 24.3.1\n",
      "[notice] To update, run: python.exe -m pip install --upgrade pip\n"
     ]
    },
    {
     "name": "stdout",
     "output_type": "stream",
     "text": [
      "\n",
      "Requirement already satisfied: numpy>=1.21.2 in c:\\users\\nv\\appdata\\local\\programs\\python\\python313\\lib\\site-packages (from opencv-python) (2.1.3)\n"
     ]
    }
   ],
   "source": [
    "pip install opencv-python"
   ]
  },
  {
   "cell_type": "code",
   "execution_count": 2,
   "metadata": {},
   "outputs": [],
   "source": [
    "import cv2\n",
    "import numpy as np\n",
    "from tkinter import Tk, Label, Button, filedialog\n",
    "from PIL import Image, ImageTk\n",
    "\n",
    "class ImageProcessor:\n",
    "    def __init__(self, root):\n",
    "        self.root = root\n",
    "        self.root.title(\"Image Operations: Swap, Eliminate, Add\")\n",
    "        \n",
    "        # UI Elements\n",
    "        self.label = Label(root, text=\"Load Two Images to Begin\", font=(\"Arial\", 16))\n",
    "        self.label.pack(pady=10)\n",
    "        \n",
    "        self.image_label1 = Label(root, text=\"Image 1 Not Loaded\")\n",
    "        self.image_label1.pack(pady=10)\n",
    "        \n",
    "        self.image_label2 = Label(root, text=\"Image 2 Not Loaded\")\n",
    "        self.image_label2.pack(pady=10)\n",
    "        \n",
    "        Button(root, text=\"Load Image 1\", command=self.load_image1).pack(side=\"left\", padx=10)\n",
    "        Button(root, text=\"Load Image 2\", command=self.load_image2).pack(side=\"left\", padx=10)\n",
    "        Button(root, text=\"Swap Images\", command=self.swap_images).pack(side=\"left\", padx=10)\n",
    "        Button(root, text=\"Eliminate Image 1\", command=self.eliminate_image1).pack(side=\"left\", padx=10)\n",
    "        Button(root, text=\"Add Images\", command=self.add_images).pack(side=\"left\", padx=10)\n",
    "        Button(root, text=\"Save Result\", command=self.save_result).pack(side=\"left\", padx=10)\n",
    "        \n",
    "        self.image1 = None\n",
    "        self.image2 = None\n",
    "        self.result_image = None\n",
    "\n",
    "    def load_image1(self):\n",
    "        filepath = filedialog.askopenfilename(filetypes=[(\"Image files\", \"*.jpg *.png *.jpeg\")])\n",
    "        if filepath:\n",
    "            self.image1 = cv2.imread(filepath)\n",
    "            self.show_image(self.image1, self.image_label1)\n",
    "\n",
    "    def load_image2(self):\n",
    "        filepath = filedialog.askopenfilename(filetypes=[(\"Image files\", \"*.jpg *.png *.jpeg\")])\n",
    "        if filepath:\n",
    "            self.image2 = cv2.imread(filepath)\n",
    "            self.show_image(self.image2, self.image_label2)\n",
    "\n",
    "    def show_image(self, img, label):\n",
    "        # Resize image for display\n",
    "        img = cv2.resize(img, (300, 300), interpolation=cv2.INTER_AREA)\n",
    "        img = cv2.cvtColor(img, cv2.COLOR_BGR2RGB)\n",
    "        img = Image.fromarray(img)\n",
    "        img = ImageTk.PhotoImage(img)\n",
    "        label.config(image=img)\n",
    "        label.image = img\n",
    "\n",
    "    def swap_images(self):\n",
    "        if self.image1 is not None and self.image2 is not None:\n",
    "            self.image1, self.image2 = self.image2.copy(), self.image1.copy()\n",
    "            self.show_image(self.image1, self.image_label1)\n",
    "            self.show_image(self.image2, self.image_label2)\n",
    "\n",
    "    def eliminate_image1(self):\n",
    "        if self.image1 is not None and self.image2 is not None:\n",
    "            self.result_image = cv2.subtract(self.image2, self.image1)\n",
    "            self.show_image(self.result_image, self.image_label1)\n",
    "\n",
    "    def add_images(self):\n",
    "        if self.image1 is not None and self.image2 is not None:\n",
    "            self.result_image = cv2.addWeighted(self.image1, 0.5, self.image2, 0.5, 0)\n",
    "            self.show_image(self.result_image, self.image_label1)\n",
    "\n",
    "    def save_result(self):\n",
    "        if self.result_image is not None:\n",
    "            filepath = filedialog.asksaveasfilename(defaultextension=\".png\",\n",
    "                                                    filetypes=[(\"PNG files\", \"*.png\"),\n",
    "                                                                (\"JPEG files\", \"*.jpg\"),\n",
    "                                                                (\"All files\", \"*.*\")])\n",
    "            if filepath:\n",
    "                cv2.imwrite(filepath, self.result_image)\n",
    "\n",
    "# Run the GUI\n",
    "if __name__ == \"__main__\":\n",
    "    root = Tk()\n",
    "    app = ImageProcessor(root)\n",
    "    root.mainloop()\n"
   ]
  }
 ],
 "metadata": {
  "kernelspec": {
   "display_name": "Python 3",
   "language": "python",
   "name": "python3"
  },
  "language_info": {
   "codemirror_mode": {
    "name": "ipython",
    "version": 3
   },
   "file_extension": ".py",
   "mimetype": "text/x-python",
   "name": "python",
   "nbconvert_exporter": "python",
   "pygments_lexer": "ipython3",
   "version": "3.13.0"
  }
 },
 "nbformat": 4,
 "nbformat_minor": 2
}
