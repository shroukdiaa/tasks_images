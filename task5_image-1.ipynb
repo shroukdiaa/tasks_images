{
 "cells": [
  {
   "cell_type": "code",
   "execution_count": 1,
   "metadata": {},
   "outputs": [
    {
     "name": "stderr",
     "output_type": "stream",
     "text": [
      "'pip' is not recognized as an internal or external command,\n",
      "operable program or batch file.\n"
     ]
    }
   ],
   "source": [
    "!pip install opencv-python"
   ]
  },
  {
   "cell_type": "code",
   "execution_count": 4,
   "metadata": {},
   "outputs": [
    {
     "name": "stdout",
     "output_type": "stream",
     "text": [
      "Requirement already satisfied: numpy in c:\\users\\nv\\appdata\\local\\programs\\python\\python313\\lib\\site-packages (2.1.3)\n",
      "Note: you may need to restart the kernel to use updated packages.\n"
     ]
    },
    {
     "name": "stderr",
     "output_type": "stream",
     "text": [
      "\n",
      "[notice] A new release of pip is available: 24.2 -> 24.3.1\n",
      "[notice] To update, run: python.exe -m pip install --upgrade pip\n"
     ]
    }
   ],
   "source": [
    "pip install numpy"
   ]
  },
  {
   "cell_type": "code",
   "execution_count": 11,
   "metadata": {},
   "outputs": [
    {
     "name": "stdout",
     "output_type": "stream",
     "text": [
      "Requirement already satisfied: Pillow in c:\\users\\nv\\appdata\\local\\programs\\python\\python313\\lib\\site-packages (11.0.0)\n",
      "Note: you may need to restart the kernel to use updated packages.\n"
     ]
    },
    {
     "name": "stderr",
     "output_type": "stream",
     "text": [
      "\n",
      "[notice] A new release of pip is available: 24.2 -> 24.3.1\n",
      "[notice] To update, run: python.exe -m pip install --upgrade pip\n"
     ]
    }
   ],
   "source": [
    "pip install Pillow"
   ]
  },
  {
   "cell_type": "code",
   "execution_count": 1,
   "metadata": {},
   "outputs": [
    {
     "name": "stdout",
     "output_type": "stream",
     "text": [
      "Could not read image at D:/design/beach-beautiful.jpg\n",
      "Could not read image at D:/design/beach-beautiful.jpg\n",
      "Could not read image at D:/design/beach-beautiful.jpg\n",
      "Could not read image at D:/design/OIP.jpg\n",
      "Could not read image at D:/design/R.jpg\n"
     ]
    }
   ],
   "source": [
    "import cv2\n",
    "import numpy as np\n",
    "from tkinter import Tk, Label, Button, filedialog\n",
    "from PIL import Image, ImageTk\n",
    "\n",
    "class ImageProcessor:\n",
    "    def __init__(self, root):\n",
    "        self.root = root\n",
    "        self.root.title(\"Histogram Equalization and Stretching\")\n",
    "        \n",
    "        # UI Elements\n",
    "        self.label = Label(root, text=\"Load an Image to Begin\", font=(\"Arial\", 16))\n",
    "        self.label.pack(pady=10)\n",
    "        \n",
    "        self.image_label = Label(root)\n",
    "        self.image_label.pack(pady=10)\n",
    "        \n",
    "        Button(root, text=\"Load Image\", command=self.load_image).pack(side=\"left\", padx=10)\n",
    "        Button(root, text=\"Load Default Image 1\", command=lambda: self.load_default_image(\"D:/design/beach-beautiful.jpg\")).pack(side=\"left\", padx=10)\n",
    "        Button(root, text=\"Load Default Image 2\", command=lambda: self.load_default_image(\"D:/design/OIP.jpg\")).pack(side=\"left\", padx=10)\n",
    "        Button(root, text=\"Load Default Image 3\", command=lambda: self.load_default_image(\"D:/design/R.jpg\")).pack(side=\"left\", padx=10)\n",
    "        Button(root, text=\"Histogram Equalization\", command=self.histogram_equalization).pack(side=\"left\", padx=10)\n",
    "        Button(root, text=\"Stretching\", command=self.stretch_image).pack(side=\"left\", padx=10)\n",
    "        Button(root, text=\"Save Processed Image\", command=self.save_image).pack(side=\"left\", padx=10)\n",
    "        \n",
    "        self.image = None\n",
    "        self.processed_image = None\n",
    "\n",
    "    def load_image(self):\n",
    "        filepath = filedialog.askopenfilename(filetypes=[(\"Image files\", \"*.jpg *.png *.jpeg\")])\n",
    "        if filepath:\n",
    "            self.image = cv2.imread(filepath, cv2.IMREAD_GRAYSCALE)  # Load in grayscale\n",
    "            self.show_image(self.image)\n",
    "\n",
    "    def load_default_image(self, path):\n",
    "        try:\n",
    "            self.image = cv2.imread(path, cv2.IMREAD_GRAYSCALE)\n",
    "            if self.image is None:\n",
    "                raise FileNotFoundError(f\"Could not read image at {path}\")\n",
    "            self.show_image(self.image)\n",
    "        except FileNotFoundError as e:\n",
    "            print(e)\n",
    "\n",
    "    def show_image(self, img):\n",
    "        # Convert OpenCV image to PIL Image, then to ImageTk for Tkinter\n",
    "        img = Image.fromarray(img)\n",
    "        img = ImageTk.PhotoImage(img)\n",
    "        self.image_label.config(image=img)\n",
    "        self.image_label.image = img\n",
    "\n",
    "    def histogram_equalization(self):\n",
    "        if self.image is not None:\n",
    "            self.processed_image = cv2.equalizeHist(self.image)\n",
    "            self.show_image(self.processed_image)\n",
    "\n",
    "    def stretch_image(self):\n",
    "        if self.image is not None:\n",
    "            min_val = np.min(self.image)\n",
    "            max_val = np.max(self.image)\n",
    "            self.processed_image = cv2.normalize(self.image, None, 0, 255, cv2.NORM_MINMAX)\n",
    "            self.show_image(self.processed_image)\n",
    "\n",
    "    def save_image(self):\n",
    "        if self.processed_image is not None:\n",
    "            filepath = filedialog.asksaveasfilename(defaultextension=\".png\",\n",
    "                                                    filetypes=[(\"PNG files\", \"*.png\"),\n",
    "                                                                (\"JPEG files\", \"*.jpg\"),\n",
    "                                                                (\"All files\", \"*.*\")])\n",
    "            if filepath:\n",
    "                cv2.imwrite(filepath, self.processed_image)\n",
    "\n",
    "# Run the GUI\n",
    "if __name__ == \"__main__\":\n",
    "    root = Tk()\n",
    "    app = ImageProcessor(root)\n",
    "    root.mainloop()\n"
   ]
  },
  {
   "cell_type": "code",
   "execution_count": null,
   "metadata": {},
   "outputs": [],
   "source": [
    "import cv2\n",
    "import numpy as np\n",
    "from tkinter import Tk, Label, Button, filedialog\n",
    "from PIL import Image, ImageTk\n",
    "\n",
    "class ImageProcessor:\n",
    "    def __init__(self, root):\n",
    "        self.root = root\n",
    "        self.root.title(\"Histogram Equalization and Stretching\")\n",
    "        \n",
    "        # UI Elements\n",
    "        self.label = Label(root, text=\"Load an Image to Begin\", font=(\"Arial\", 16))\n",
    "        self.label.pack(pady=10)\n",
    "        \n",
    "        self.image_label = Label(root)\n",
    "        self.image_label.pack(pady=10)\n",
    "        \n",
    "        Button(root, text=\"Load Image\", command=self.load_image).pack(side=\"left\", padx=10)\n",
    "        Button(root, text=\"Histogram Equalization\", command=self.histogram_equalization).pack(side=\"left\", padx=10)\n",
    "        Button(root, text=\"Stretching\", command=self.stretch_image).pack(side=\"left\", padx=10)\n",
    "        Button(root, text=\"Save Processed Image\", command=self.save_image).pack(side=\"left\", padx=10)\n",
    "        \n",
    "        self.image = None\n",
    "        self.processed_image = None\n",
    "\n",
    "    def load_image(self):\n",
    "        filepath = filedialog.askopenfilename(filetypes=[(\"Image files\", \"D:\\desgin\\beach-beautiful.jpg\")])\n",
    "        if filepath:\n",
    "            self.image = cv2.imread(filepath, cv2.IMREAD_GRAYSCALE)  # Load in grayscale\n",
    "            self.show_image(self.image)\n",
    "\n",
    "    def show_image(self, img):\n",
    "        # Convert OpenCV image to PIL Image, then to ImageTk for Tkinter\n",
    "        img = Image.fromarray(img)\n",
    "        img = ImageTk.PhotoImage(img)\n",
    "        self.image_label.config(image=img)\n",
    "        self.image_label.image = img\n",
    "\n",
    "    def histogram_equalization(self):\n",
    "        if self.image is not None:\n",
    "            self.processed_image = cv2.equalizeHist(self.image)\n",
    "            self.show_image(self.processed_image)\n",
    "\n",
    "    def stretch_image(self):\n",
    "        if self.image is not None:\n",
    "            min_val = np.min(self.image)\n",
    "            max_val = np.max(self.image)\n",
    "            self.processed_image = cv2.normalize(self.image, None, 0, 255, cv2.NORM_MINMAX)\n",
    "            self.show_image(self.processed_image)\n",
    "\n",
    "    def save_image(self):\n",
    "        if self.processed_image is not None:\n",
    "            filepath = filedialog.asksaveasfilename(defaultextension=\".png\",\n",
    "                                                    filetypes=[(\"PNG files\", \"*.png\"),\n",
    "                                                                (\"JPEG files\", \"*.jpg\"),\n",
    "                                                                (\"All files\", \"*.*\")])\n",
    "            if filepath:\n",
    "                cv2.imwrite(filepath, self.processed_image)\n",
    "\n",
    "# Run the GUI\n",
    "if __name__ == \"__main__\":\n",
    "    root = Tk()\n",
    "    app = ImageProcessor(root)\n",
    "    root.mainloop()\n"
   ]
  }
 ],
 "metadata": {
  "kernelspec": {
   "display_name": "Python 3",
   "language": "python",
   "name": "python3"
  },
  "language_info": {
   "codemirror_mode": {
    "name": "ipython",
    "version": 3
   },
   "file_extension": ".py",
   "mimetype": "text/x-python",
   "name": "python",
   "nbconvert_exporter": "python",
   "pygments_lexer": "ipython3",
   "version": "3.13.0"
  }
 },
 "nbformat": 4,
 "nbformat_minor": 2
}
